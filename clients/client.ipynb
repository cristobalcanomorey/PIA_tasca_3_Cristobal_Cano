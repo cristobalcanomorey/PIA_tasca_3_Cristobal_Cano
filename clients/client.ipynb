{
 "cells": [
  {
   "cell_type": "code",
   "execution_count": 8,
   "metadata": {},
   "outputs": [
    {
     "name": "stdout",
     "output_type": "stream",
     "text": [
      "{\n",
      "  \"flor\": [\n",
      "    1.5,\n",
      "    0.5\n",
      "  ],\n",
      "  \"prediction\": 0.0\n",
      "}\n"
     ]
    },
    {
     "name": "stderr",
     "output_type": "stream",
     "text": [
      "  % Total    % Received % Xferd  Average Speed   Time    Time     Time  Current\n",
      "                                 Dload  Upload   Total   Spent    Left  Speed\n",
      "\n",
      "  0     0    0     0    0     0      0      0 --:--:-- --:--:-- --:--:--     0\n",
      "100    76  100    58  100    18  10305   3198 --:--:-- --:--:-- --:--:-- 15200\n"
     ]
    },
    {
     "name": "stdout",
     "output_type": "stream",
     "text": [
      "{\n",
      "  \"flor\": [\n",
      "    4,\n",
      "    1\n",
      "  ],\n",
      "  \"prediction\": 1.0\n",
      "}\n"
     ]
    },
    {
     "name": "stderr",
     "output_type": "stream",
     "text": [
      "  % Total    % Received % Xferd  Average Speed   Time    Time     Time  Current\n",
      "                                 Dload  Upload   Total   Spent    Left  Speed\n",
      "\n",
      "  0     0    0     0    0     0      0      0 --:--:-- --:--:-- --:--:--     0\n",
      "100    68  100    54  100    14   9588   2485 --:--:-- --:--:-- --:--:-- 13600\n"
     ]
    },
    {
     "name": "stdout",
     "output_type": "stream",
     "text": [
      "{\n",
      "  \"flor\": [\n",
      "    6,\n",
      "    1.5\n",
      "  ],\n",
      "  \"prediction\": 2.0\n",
      "}\n"
     ]
    },
    {
     "name": "stderr",
     "output_type": "stream",
     "text": [
      "  % Total    % Received % Xferd  Average Speed   Time    Time     Time  Current\n",
      "                                 Dload  Upload   Total   Spent    Left  Speed\n",
      "\n",
      "  0     0    0     0    0     0      0      0 --:--:-- --:--:-- --:--:--     0\n",
      "100    72  100    56  100    16   9987   2853 --:--:-- --:--:-- --:--:-- 14400\n"
     ]
    }
   ],
   "source": [
    "#Cliente KNN\n",
    "!curl --request POST \"http://127.0.0.1:8000/predict/knn\" \\\n",
    "--header \"Content-Type: application/json\" \\\n",
    "--data-raw \"{\\\"flor\\\":[1.5,0.5]}\" \n",
    "\n",
    "!curl --request POST \"http://127.0.0.1:8000/predict/knn\" \\\n",
    "--header \"Content-Type: application/json\" \\\n",
    "--data-raw \"{\\\"flor\\\":[4,1]}\"\n",
    "\n",
    "!curl --request POST \"http://127.0.0.1:8000/predict/knn\" \\\n",
    "--header \"Content-Type: application/json\" \\\n",
    "--data-raw \"{\\\"flor\\\":[6,1.5]}\""
   ]
  },
  {
   "cell_type": "code",
   "execution_count": 9,
   "metadata": {},
   "outputs": [
    {
     "name": "stdout",
     "output_type": "stream",
     "text": [
      "{\n",
      "  \"flor\": [\n",
      "    1.5,\n",
      "    0.5\n",
      "  ],\n",
      "  \"prediction\": 0.0\n",
      "}\n"
     ]
    },
    {
     "name": "stderr",
     "output_type": "stream",
     "text": [
      "  % Total    % Received % Xferd  Average Speed   Time    Time     Time  Current\n",
      "                                 Dload  Upload   Total   Spent    Left  Speed\n",
      "\n",
      "  0     0    0     0    0     0      0      0 --:--:-- --:--:-- --:--:--     0\n",
      "100    76  100    58  100    18  14442   4482 --:--:-- --:--:-- --:--:-- 25333\n"
     ]
    },
    {
     "name": "stdout",
     "output_type": "stream",
     "text": [
      "{\n",
      "  \"flor\": [\n",
      "    4,\n",
      "    1\n",
      "  ],\n",
      "  \"prediction\": 1.0\n",
      "}\n"
     ]
    },
    {
     "name": "stderr",
     "output_type": "stream",
     "text": [
      "  % Total    % Received % Xferd  Average Speed   Time    Time     Time  Current\n",
      "                                 Dload  Upload   Total   Spent    Left  Speed\n",
      "\n",
      "  0     0    0     0    0     0      0      0 --:--:-- --:--:-- --:--:--     0\n",
      "100    68  100    54  100    14  13667   3543 --:--:-- --:--:-- --:--:-- 22666\n"
     ]
    },
    {
     "name": "stdout",
     "output_type": "stream",
     "text": [
      "{\n",
      "  \"flor\": [\n",
      "    6,\n",
      "    1.5\n",
      "  ],\n",
      "  \"prediction\": 2.0\n",
      "}\n"
     ]
    },
    {
     "name": "stderr",
     "output_type": "stream",
     "text": [
      "  % Total    % Received % Xferd  Average Speed   Time    Time     Time  Current\n",
      "                                 Dload  Upload   Total   Spent    Left  Speed\n",
      "\n",
      "  0     0    0     0    0     0      0      0 --:--:-- --:--:-- --:--:--     0\n",
      "100    72  100    56  100    16  15288   4368 --:--:-- --:--:-- --:--:-- 24000\n"
     ]
    }
   ],
   "source": [
    "#Cliente Árboles de decisión\n",
    "!curl --request POST \"http://127.0.0.1:8000/predict/decision_trees\" \\\n",
    "--header \"Content-Type: application/json\" \\\n",
    "--data-raw \"{\\\"flor\\\":[1.5,0.5]}\" \n",
    "\n",
    "!curl --request POST \"http://127.0.0.1:8000/predict/decision_trees\" \\\n",
    "--header \"Content-Type: application/json\" \\\n",
    "--data-raw \"{\\\"flor\\\":[4,1]}\"\n",
    "\n",
    "!curl --request POST \"http://127.0.0.1:8000/predict/decision_trees\" \\\n",
    "--header \"Content-Type: application/json\" \\\n",
    "--data-raw \"{\\\"flor\\\":[6,1.5]}\""
   ]
  },
  {
   "cell_type": "code",
   "execution_count": 10,
   "metadata": {},
   "outputs": [
    {
     "name": "stdout",
     "output_type": "stream",
     "text": [
      "{\n",
      "  \"flor\": [\n",
      "    1.5,\n",
      "    0.5\n",
      "  ],\n",
      "  \"prediction\": 0.0\n",
      "}\n"
     ]
    },
    {
     "name": "stderr",
     "output_type": "stream",
     "text": [
      "  % Total    % Received % Xferd  Average Speed   Time    Time     Time  Current\n",
      "                                 Dload  Upload   Total   Spent    Left  Speed\n",
      "\n",
      "  0     0    0     0    0     0      0      0 --:--:-- --:--:-- --:--:--     0\n",
      "100    76  100    58  100    18  11491   3566 --:--:-- --:--:-- --:--:-- 15200\n"
     ]
    },
    {
     "name": "stdout",
     "output_type": "stream",
     "text": [
      "{\n",
      "  \"flor\": [\n",
      "    4,\n",
      "    1\n",
      "  ],\n",
      "  \"prediction\": 1.0\n",
      "}\n"
     ]
    },
    {
     "name": "stderr",
     "output_type": "stream",
     "text": [
      "  % Total    % Received % Xferd  Average Speed   Time    Time     Time  Current\n",
      "                                 Dload  Upload   Total   Spent    Left  Speed\n",
      "\n",
      "  0     0    0     0    0     0      0      0 --:--:-- --:--:-- --:--:--     0\n",
      "100    68  100    54  100    14  10087   2615 --:--:-- --:--:-- --:--:-- 13600\n"
     ]
    },
    {
     "name": "stdout",
     "output_type": "stream",
     "text": [
      "{\n",
      "  \"flor\": [\n",
      "    6,\n",
      "    1.5\n",
      "  ],\n",
      "  \"prediction\": 2.0\n",
      "}\n"
     ]
    },
    {
     "name": "stderr",
     "output_type": "stream",
     "text": [
      "  % Total    % Received % Xferd  Average Speed   Time    Time     Time  Current\n",
      "                                 Dload  Upload   Total   Spent    Left  Speed\n",
      "\n",
      "  0     0    0     0    0     0      0      0 --:--:-- --:--:-- --:--:--     0\n",
      "100    72  100    56  100    16  10664   3047 --:--:-- --:--:-- --:--:-- 14400\n"
     ]
    }
   ],
   "source": [
    "#Cliente regresión lineal\n",
    "!curl --request POST \"http://127.0.0.1:8000/predict/linear_regression\" \\\n",
    "--header \"Content-Type: application/json\" \\\n",
    "--data-raw \"{\\\"flor\\\":[1.5,0.5]}\" \n",
    "\n",
    "!curl --request POST \"http://127.0.0.1:8000/predict/linear_regression\" \\\n",
    "--header \"Content-Type: application/json\" \\\n",
    "--data-raw \"{\\\"flor\\\":[4,1]}\"\n",
    "\n",
    "!curl --request POST \"http://127.0.0.1:8000/predict/linear_regression\" \\\n",
    "--header \"Content-Type: application/json\" \\\n",
    "--data-raw \"{\\\"flor\\\":[6,1.5]}\""
   ]
  },
  {
   "cell_type": "code",
   "execution_count": 11,
   "metadata": {},
   "outputs": [
    {
     "name": "stdout",
     "output_type": "stream",
     "text": [
      "{\n",
      "  \"flor\": [\n",
      "    1.5,\n",
      "    0.5\n",
      "  ],\n",
      "  \"prediction\": 0.0\n",
      "}\n"
     ]
    },
    {
     "name": "stderr",
     "output_type": "stream",
     "text": [
      "  % Total    % Received % Xferd  Average Speed   Time    Time     Time  Current\n",
      "                                 Dload  Upload   Total   Spent    Left  Speed\n",
      "\n",
      "  0     0    0     0    0     0      0      0 --:--:-- --:--:-- --:--:--     0\n",
      "100    76  100    58  100    18  11341   3519 --:--:-- --:--:-- --:--:-- 19000\n"
     ]
    },
    {
     "name": "stdout",
     "output_type": "stream",
     "text": [
      "{\n",
      "  \"flor\": [\n",
      "    4,\n",
      "    1\n",
      "  ],\n",
      "  \"prediction\": 1.0\n",
      "}\n"
     ]
    },
    {
     "name": "stderr",
     "output_type": "stream",
     "text": [
      "  % Total    % Received % Xferd  Average Speed   Time    Time     Time  Current\n",
      "                                 Dload  Upload   Total   Spent    Left  Speed\n",
      "\n",
      "  0     0    0     0    0     0      0      0 --:--:-- --:--:-- --:--:--     0\n",
      "100    68  100    54  100    14  10207   2646 --:--:-- --:--:-- --:--:-- 13600\n"
     ]
    },
    {
     "name": "stdout",
     "output_type": "stream",
     "text": [
      "{\n",
      "  \"flor\": [\n",
      "    6,\n",
      "    1.5\n",
      "  ],\n",
      "  \"prediction\": 2.0\n",
      "}\n"
     ]
    },
    {
     "name": "stderr",
     "output_type": "stream",
     "text": [
      "  % Total    % Received % Xferd  Average Speed   Time    Time     Time  Current\n",
      "                                 Dload  Upload   Total   Spent    Left  Speed\n",
      "\n",
      "  0     0    0     0    0     0      0      0 --:--:-- --:--:-- --:--:--     0\n",
      "100    72  100    56  100    16  11283   3223 --:--:-- --:--:-- --:--:-- 18000\n"
     ]
    }
   ],
   "source": [
    "#Cliente máquina de soporte vectorial\n",
    "!curl --request POST \"http://127.0.0.1:8000/predict/svm\" \\\n",
    "--header \"Content-Type: application/json\" \\\n",
    "--data-raw \"{\\\"flor\\\":[1.5,0.5]}\" \n",
    "\n",
    "!curl --request POST \"http://127.0.0.1:8000/predict/svm\" \\\n",
    "--header \"Content-Type: application/json\" \\\n",
    "--data-raw \"{\\\"flor\\\":[4,1]}\"\n",
    "\n",
    "!curl --request POST \"http://127.0.0.1:8000/predict/svm\" \\\n",
    "--header \"Content-Type: application/json\" \\\n",
    "--data-raw \"{\\\"flor\\\":[6,1.5]}\""
   ]
  }
 ],
 "metadata": {
  "kernelspec": {
   "display_name": ".venv",
   "language": "python",
   "name": "python3"
  },
  "language_info": {
   "codemirror_mode": {
    "name": "ipython",
    "version": 3
   },
   "file_extension": ".py",
   "mimetype": "text/x-python",
   "name": "python",
   "nbconvert_exporter": "python",
   "pygments_lexer": "ipython3",
   "version": "3.10.6"
  }
 },
 "nbformat": 4,
 "nbformat_minor": 2
}
