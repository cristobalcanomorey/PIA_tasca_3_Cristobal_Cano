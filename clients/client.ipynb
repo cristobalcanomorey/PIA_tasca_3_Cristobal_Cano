{
 "cells": [
  {
   "cell_type": "code",
   "execution_count": 9,
   "metadata": {},
   "outputs": [
    {
     "name": "stdout",
     "output_type": "stream",
     "text": [
      "{\n",
      "  \"flower\": [\n",
      "    1.5,\n",
      "    0.5\n",
      "  ],\n",
      "  \"prediction\": \"Iris setosa\",\n",
      "  \"using\": \"KNN\"\n",
      "}\n"
     ]
    },
    {
     "name": "stderr",
     "output_type": "stream",
     "text": [
      "  % Total    % Received % Xferd  Average Speed   Time    Time     Time  Current\n",
      "                                 Dload  Upload   Total   Spent    Left  Speed\n",
      "\n",
      "  0     0    0     0    0     0      0      0 --:--:-- --:--:-- --:--:--     0\n",
      "100   106  100    88  100    18  15408   3151 --:--:-- --:--:-- --:--:-- 21200\n",
      "  % Total    % Received % Xferd  Average Speed   Time    Time     Time  Current\n",
      "                                 Dload  Upload   Total   Spent    Left  Speed\n",
      "\n",
      "  0     0    0     0    0     0      0      0 --:--:-- --:--:-- --:--:--     0\n",
      "100   102  100    88  100    14  16272   2588 --:--:-- --:--:-- --:--:-- 20400\n"
     ]
    },
    {
     "name": "stdout",
     "output_type": "stream",
     "text": [
      "{\n",
      "  \"flower\": [\n",
      "    4,\n",
      "    1\n",
      "  ],\n",
      "  \"prediction\": \"Iris versicolor\",\n",
      "  \"using\": \"KNN\"\n",
      "}\n",
      "{\n",
      "  \"flower\": [\n",
      "    6,\n",
      "    1.5\n",
      "  ],\n",
      "  \"prediction\": \"Iris virginica\",\n",
      "  \"using\": \"KNN\"\n",
      "}\n"
     ]
    },
    {
     "name": "stderr",
     "output_type": "stream",
     "text": [
      "  % Total    % Received % Xferd  Average Speed   Time    Time     Time  Current\n",
      "                                 Dload  Upload   Total   Spent    Left  Speed\n",
      "\n",
      "  0     0    0     0    0     0      0      0 --:--:-- --:--:-- --:--:--     0\n",
      "100   105  100    89  100    16  17828   3205 --:--:-- --:--:-- --:--:-- 26250\n"
     ]
    }
   ],
   "source": [
    "#Cliente KNN\n",
    "!curl --request POST \"http://127.0.0.1:8000/predict/knn\" \\\n",
    "--header \"Content-Type: application/json\" \\\n",
    "--data-raw \"{\\\"flor\\\":[1.5,0.5]}\" \n",
    "\n",
    "!curl --request POST \"http://127.0.0.1:8000/predict/knn\" \\\n",
    "--header \"Content-Type: application/json\" \\\n",
    "--data-raw \"{\\\"flor\\\":[4,1]}\"\n",
    "\n",
    "!curl --request POST \"http://127.0.0.1:8000/predict/knn\" \\\n",
    "--header \"Content-Type: application/json\" \\\n",
    "--data-raw \"{\\\"flor\\\":[6,1.5]}\""
   ]
  },
  {
   "cell_type": "code",
   "execution_count": 10,
   "metadata": {},
   "outputs": [
    {
     "name": "stdout",
     "output_type": "stream",
     "text": [
      "{\n",
      "  \"flower\": [\n",
      "    1.5,\n",
      "    0.5\n",
      "  ],\n",
      "  \"prediction\": \"Iris setosa\",\n",
      "  \"using\": \"Decision trees\"\n",
      "}\n"
     ]
    },
    {
     "name": "stderr",
     "output_type": "stream",
     "text": [
      "  % Total    % Received % Xferd  Average Speed   Time    Time     Time  Current\n",
      "                                 Dload  Upload   Total   Spent    Left  Speed\n",
      "\n",
      "  0     0    0     0    0     0      0      0 --:--:-- --:--:-- --:--:--     0\n",
      "100   117  100    99  100    18  23763   4320 --:--:-- --:--:-- --:--:-- 29250\n"
     ]
    },
    {
     "name": "stdout",
     "output_type": "stream",
     "text": [
      "{\n",
      "  \"flower\": [\n",
      "    4,\n",
      "    1\n",
      "  ],\n",
      "  \"prediction\": \"Iris versicolor\",\n",
      "  \"using\": \"Decision trees\"\n",
      "}\n"
     ]
    },
    {
     "name": "stderr",
     "output_type": "stream",
     "text": [
      "  % Total    % Received % Xferd  Average Speed   Time    Time     Time  Current\n",
      "                                 Dload  Upload   Total   Spent    Left  Speed\n",
      "\n",
      "  0     0    0     0    0     0      0      0 --:--:-- --:--:-- --:--:--     0\n",
      "100   113  100    99  100    14  27019   3820 --:--:-- --:--:-- --:--:-- 37666\n"
     ]
    },
    {
     "name": "stdout",
     "output_type": "stream",
     "text": [
      "{\n",
      "  \"flower\": [\n",
      "    6,\n",
      "    1.5\n",
      "  ],\n",
      "  \"prediction\": \"Iris virginica\",\n",
      "  \"using\": \"Decision trees\"\n",
      "}\n"
     ]
    },
    {
     "name": "stderr",
     "output_type": "stream",
     "text": [
      "  % Total    % Received % Xferd  Average Speed   Time    Time     Time  Current\n",
      "                                 Dload  Upload   Total   Spent    Left  Speed\n",
      "\n",
      "  0     0    0     0    0     0      0      0 --:--:-- --:--:-- --:--:--     0\n",
      "100   116  100   100  100    16  29325   4692 --:--:-- --:--:-- --:--:-- 38666\n"
     ]
    }
   ],
   "source": [
    "#Cliente Árboles de decisión\n",
    "!curl --request POST \"http://127.0.0.1:8000/predict/decision_trees\" \\\n",
    "--header \"Content-Type: application/json\" \\\n",
    "--data-raw \"{\\\"flor\\\":[1.5,0.5]}\" \n",
    "\n",
    "!curl --request POST \"http://127.0.0.1:8000/predict/decision_trees\" \\\n",
    "--header \"Content-Type: application/json\" \\\n",
    "--data-raw \"{\\\"flor\\\":[4,1]}\"\n",
    "\n",
    "!curl --request POST \"http://127.0.0.1:8000/predict/decision_trees\" \\\n",
    "--header \"Content-Type: application/json\" \\\n",
    "--data-raw \"{\\\"flor\\\":[6,1.5]}\""
   ]
  },
  {
   "cell_type": "code",
   "execution_count": 11,
   "metadata": {},
   "outputs": [
    {
     "name": "stdout",
     "output_type": "stream",
     "text": [
      "{\n",
      "  \"flower\": [\n",
      "    1.5,\n",
      "    0.5\n",
      "  ],\n",
      "  \"prediction\": \"Iris setosa\",\n",
      "  \"using\": \"Linear regression\"\n",
      "}\n"
     ]
    },
    {
     "name": "stderr",
     "output_type": "stream",
     "text": [
      "  % Total    % Received % Xferd  Average Speed   Time    Time     Time  Current\n",
      "                                 Dload  Upload   Total   Spent    Left  Speed\n",
      "\n",
      "  0     0    0     0    0     0      0      0 --:--:-- --:--:-- --:--:--     0\n",
      "100   120  100   102  100    18  28247   4984 --:--:-- --:--:-- --:--:-- 40000\n"
     ]
    },
    {
     "name": "stdout",
     "output_type": "stream",
     "text": [
      "{\n",
      "  \"flower\": [\n",
      "    4,\n",
      "    1\n",
      "  ],\n",
      "  \"prediction\": \"Iris versicolor\",\n",
      "  \"using\": \"Linear regression\"\n",
      "}\n"
     ]
    },
    {
     "name": "stderr",
     "output_type": "stream",
     "text": [
      "  % Total    % Received % Xferd  Average Speed   Time    Time     Time  Current\n",
      "                                 Dload  Upload   Total   Spent    Left  Speed\n",
      "\n",
      "  0     0    0     0    0     0      0      0 --:--:-- --:--:-- --:--:--     0\n",
      "100   116  100   102  100    14  21987   3017 --:--:-- --:--:-- --:--:-- 29000\n"
     ]
    },
    {
     "name": "stdout",
     "output_type": "stream",
     "text": [
      "{\n",
      "  \"flower\": [\n",
      "    6,\n",
      "    1.5\n",
      "  ],\n",
      "  \"prediction\": \"Iris virginica\",\n",
      "  \"using\": \"Linear regression\"\n",
      "}\n"
     ]
    },
    {
     "name": "stderr",
     "output_type": "stream",
     "text": [
      "  % Total    % Received % Xferd  Average Speed   Time    Time     Time  Current\n",
      "                                 Dload  Upload   Total   Spent    Left  Speed\n",
      "\n",
      "  0     0    0     0    0     0      0      0 --:--:-- --:--:-- --:--:--     0\n",
      "100   119  100   103  100    16  29253   4544 --:--:-- --:--:-- --:--:-- 39666\n"
     ]
    }
   ],
   "source": [
    "#Cliente regresión lineal\n",
    "!curl --request POST \"http://127.0.0.1:8000/predict/linear_regression\" \\\n",
    "--header \"Content-Type: application/json\" \\\n",
    "--data-raw \"{\\\"flor\\\":[1.5,0.5]}\" \n",
    "\n",
    "!curl --request POST \"http://127.0.0.1:8000/predict/linear_regression\" \\\n",
    "--header \"Content-Type: application/json\" \\\n",
    "--data-raw \"{\\\"flor\\\":[4,1]}\"\n",
    "\n",
    "!curl --request POST \"http://127.0.0.1:8000/predict/linear_regression\" \\\n",
    "--header \"Content-Type: application/json\" \\\n",
    "--data-raw \"{\\\"flor\\\":[6,1.5]}\""
   ]
  },
  {
   "cell_type": "code",
   "execution_count": 12,
   "metadata": {},
   "outputs": [
    {
     "name": "stdout",
     "output_type": "stream",
     "text": [
      "{\n",
      "  \"flower\": [\n",
      "    1.5,\n",
      "    0.5\n",
      "  ],\n",
      "  \"prediction\": \"Iris setosa\",\n",
      "  \"using\": \"SVM\"\n",
      "}\n"
     ]
    },
    {
     "name": "stderr",
     "output_type": "stream",
     "text": [
      "  % Total    % Received % Xferd  Average Speed   Time    Time     Time  Current\n",
      "                                 Dload  Upload   Total   Spent    Left  Speed\n",
      "\n",
      "  0     0    0     0    0     0      0      0 --:--:-- --:--:-- --:--:--     0\n",
      "100   106  100    88  100    18  23854   4879 --:--:-- --:--:-- --:--:-- 35333\n"
     ]
    },
    {
     "name": "stdout",
     "output_type": "stream",
     "text": [
      "{\n",
      "  \"flower\": [\n",
      "    4,\n",
      "    1\n",
      "  ],\n",
      "  \"prediction\": \"Iris versicolor\",\n",
      "  \"using\": \"SVM\"\n",
      "}\n"
     ]
    },
    {
     "name": "stderr",
     "output_type": "stream",
     "text": [
      "  % Total    % Received % Xferd  Average Speed   Time    Time     Time  Current\n",
      "                                 Dload  Upload   Total   Spent    Left  Speed\n",
      "\n",
      "  0     0    0     0    0     0      0      0 --:--:-- --:--:-- --:--:--     0\n",
      "100   102  100    88  100    14  21348   3396 --:--:-- --:--:-- --:--:-- 25500\n"
     ]
    },
    {
     "name": "stdout",
     "output_type": "stream",
     "text": [
      "{\n",
      "  \"flower\": [\n",
      "    6,\n",
      "    1.5\n",
      "  ],\n",
      "  \"prediction\": \"Iris virginica\",\n",
      "  \"using\": \"SVM\"\n",
      "}\n"
     ]
    },
    {
     "name": "stderr",
     "output_type": "stream",
     "text": [
      "  % Total    % Received % Xferd  Average Speed   Time    Time     Time  Current\n",
      "                                 Dload  Upload   Total   Spent    Left  Speed\n",
      "\n",
      "  0     0    0     0    0     0      0      0 --:--:-- --:--:-- --:--:--     0\n",
      "100   105  100    89  100    16  21808   3920 --:--:-- --:--:-- --:--:-- 26250\n"
     ]
    }
   ],
   "source": [
    "#Cliente máquina de soporte vectorial\n",
    "!curl --request POST \"http://127.0.0.1:8000/predict/svm\" \\\n",
    "--header \"Content-Type: application/json\" \\\n",
    "--data-raw \"{\\\"flor\\\":[1.5,0.5]}\" \n",
    "\n",
    "!curl --request POST \"http://127.0.0.1:8000/predict/svm\" \\\n",
    "--header \"Content-Type: application/json\" \\\n",
    "--data-raw \"{\\\"flor\\\":[4,1]}\"\n",
    "\n",
    "!curl --request POST \"http://127.0.0.1:8000/predict/svm\" \\\n",
    "--header \"Content-Type: application/json\" \\\n",
    "--data-raw \"{\\\"flor\\\":[6,1.5]}\""
   ]
  }
 ],
 "metadata": {
  "kernelspec": {
   "display_name": ".venv",
   "language": "python",
   "name": "python3"
  },
  "language_info": {
   "codemirror_mode": {
    "name": "ipython",
    "version": 3
   },
   "file_extension": ".py",
   "mimetype": "text/x-python",
   "name": "python",
   "nbconvert_exporter": "python",
   "pygments_lexer": "ipython3",
   "version": "3.10.6"
  }
 },
 "nbformat": 4,
 "nbformat_minor": 2
}
